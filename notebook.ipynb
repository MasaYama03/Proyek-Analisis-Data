{
  "cells": [
    {
      "cell_type": "markdown",
      "metadata": {
        "id": "H9wADwK78DCz"
      },
      "source": [
        "# Proyek Analisis Data: Bike-sharing-dataset\n",
        "- **Nama:** Masahiro Gerarudo Yamazaki\n",
        "- **Email:** masahiroymzk24@gmail.com\n",
        "- **ID Dicoding:** masayama\n",
        "- **ID Cohort:** MC009D5Y0456"
      ]
    },
    {
      "cell_type": "markdown",
      "metadata": {
        "id": "eE0raob58DC0"
      },
      "source": [
        "## Menentukan Pertanyaan Bisnis"
      ]
    },
    {
      "cell_type": "markdown",
      "metadata": {
        "id": "GmQeQ5YF8DC0"
      },
      "source": [
        "- Pertanyaan 1: Mengapa jumlah penyewaan sepeda cenderung lebih tinggi pada hari kerja dibandingkan dengan akhir pekan?\n",
        "\n",
        "- Pertanyaan 2: Kapan waktu paling banyak untuk penyewaan sepeda selama sehari?\n"
      ]
    },
    {
      "cell_type": "markdown",
      "metadata": {
        "id": "H-z4QGlO8DC1"
      },
      "source": [
        "## Import Semua Packages/Library yang Digunakan"
      ]
    },
    {
      "cell_type": "code",
      "source": [
        "# Mengimpor semua library yang dibutuhkan\n",
        "import pandas as pd\n",
        "import matplotlib.pyplot as plt\n",
        "import seaborn as sns  # Untuk visualisasi yang lebih lanjut jika diperlukan\n",
        "import matplotlib  # Untuk memeriksa versi matplotlib\n",
        "\n",
        "# Menampilkan versi library untuk memastikan kompatibilitas\n",
        "print(\"Pandas version:\", pd.__version__)\n",
        "print(\"Matplotlib version:\", matplotlib.__version__)"
      ],
      "metadata": {
        "colab": {
          "base_uri": "https://localhost:8080/"
        },
        "id": "ebFbTsMtWEod",
        "outputId": "b59cc16e-b6f3-45dc-835d-58f55de83583"
      },
      "execution_count": 78,
      "outputs": [
        {
          "output_type": "stream",
          "name": "stdout",
          "text": [
            "Pandas version: 2.2.2\n",
            "Matplotlib version: 3.10.0\n"
          ]
        }
      ]
    },
    {
      "cell_type": "markdown",
      "source": [
        "- Dengan mengimpor pandas, kita dapat mengelola dan menganalisis data dengan mudah. Matplotlib digunakan untuk membuat visualisasi, sementara Seaborn memberikan gaya visualisasi yang lebih informatif."
      ],
      "metadata": {
        "id": "bDCxCTSdZF7-"
      }
    },
    {
      "cell_type": "markdown",
      "metadata": {
        "id": "h_Sh51Xy8DC1"
      },
      "source": [
        "## Data Wrangling"
      ]
    },
    {
      "cell_type": "markdown",
      "metadata": {
        "id": "sXU2GBYu8DC1"
      },
      "source": [
        "### Gathering Data\n",
        "- Tahap data wrangling, dimulai dengan proses pengumpulan data. Pada proses ini kita akan mengumpulkan semua data yang dibutuhkan untuk menjawab semua pertanyaan atau masalah bisnis yang ingin kita hadapi"
      ]
    },
    {
      "cell_type": "code",
      "execution_count": 79,
      "metadata": {
        "id": "zjCBk1BI8DC1",
        "colab": {
          "base_uri": "https://localhost:8080/"
        },
        "outputId": "d8650a99-a925-4754-fbf9-a622bd1a6b23"
      },
      "outputs": [
        {
          "output_type": "stream",
          "name": "stdout",
          "text": [
            "---- Hour Dataset ----\n",
            "   instant      dteday  season  yr  mnth  hr  holiday  weekday  workingday  \\\n",
            "0        1  2011-01-01       1   0     1   0        0        6           0   \n",
            "1        2  2011-01-01       1   0     1   1        0        6           0   \n",
            "2        3  2011-01-01       1   0     1   2        0        6           0   \n",
            "3        4  2011-01-01       1   0     1   3        0        6           0   \n",
            "4        5  2011-01-01       1   0     1   4        0        6           0   \n",
            "\n",
            "   weathersit  temp   atemp   hum  windspeed  casual  registered  cnt  \n",
            "0           1  0.24  0.2879  0.81        0.0       3          13   16  \n",
            "1           1  0.22  0.2727  0.80        0.0       8          32   40  \n",
            "2           1  0.22  0.2727  0.80        0.0       5          27   32  \n",
            "3           1  0.24  0.2879  0.75        0.0       3          10   13  \n",
            "4           1  0.24  0.2879  0.75        0.0       0           1    1  \n",
            "\n",
            "---- Day Dataset ----\n",
            "   instant      dteday  season  yr  mnth  holiday  weekday  workingday  \\\n",
            "0        1  2011-01-01       1   0     1        0        6           0   \n",
            "1        2  2011-01-02       1   0     1        0        0           0   \n",
            "2        3  2011-01-03       1   0     1        0        1           1   \n",
            "3        4  2011-01-04       1   0     1        0        2           1   \n",
            "4        5  2011-01-05       1   0     1        0        3           1   \n",
            "\n",
            "   weathersit      temp     atemp       hum  windspeed  casual  registered  \\\n",
            "0           2  0.344167  0.363625  0.805833   0.160446     331         654   \n",
            "1           2  0.363478  0.353739  0.696087   0.248539     131         670   \n",
            "2           1  0.196364  0.189405  0.437273   0.248309     120        1229   \n",
            "3           1  0.200000  0.212122  0.590435   0.160296     108        1454   \n",
            "4           1  0.226957  0.229270  0.436957   0.186900      82        1518   \n",
            "\n",
            "    cnt  \n",
            "0   985  \n",
            "1   801  \n",
            "2  1349  \n",
            "3  1562  \n",
            "4  1600  \n"
          ]
        }
      ],
      "source": [
        "# Memuat dataset\n",
        "hour_df = pd.read_csv('/content/hour.csv')\n",
        "day_df = pd.read_csv('/content/day.csv')\n",
        "\n",
        "# Menampilkan beberapa baris dari masing-masing dataset untuk memeriksa struktur data tersebut\n",
        "print(\"---- Hour Dataset ----\")\n",
        "print(hour_df.head())\n",
        "print(\"\\n---- Day Dataset ----\")\n",
        "print(day_df.head())\n"
      ]
    },
    {
      "cell_type": "markdown",
      "source": [
        "**Insight:**\n",
        "\n",
        "Penjelasan Kolom untuk hour.csv dan day.csv:\n",
        "- instant: Indeks rekaman (ID dari observasi).\n",
        "- dteday: Tanggal saat data penyewaan sepeda tercatat.\n",
        "- season: Musim saat data dikumpulkan.\n",
        "  - 1: Spring (Musim Semi)\n",
        "  - 2: Summer (Musim Panas)\n",
        "  - 3: Fall (Musim Gugur)\n",
        "  - 4: Winter (Musim Dingin)\n",
        "- yr: Tahun data.\n",
        "  - 0: 2011\n",
        "  - 1: 2012\n",
        "- mnth: Bulan (dari 1 hingga 12).\n",
        "- hr (hanya di hour.csv): Jam pada hari tersebut (dari 0 hingga 23). Tidak tersedia di day.csv.\n",
        "- holiday: Menandakan apakah hari tersebut merupakan hari libur atau tidak. Informasi ini diambil dari jadwal libur resmi.\n",
        "- weekday: Hari dalam seminggu (0 hingga 6, dimana 0 = Minggu, 6 = Sabtu).\n",
        "- workingday: Menandakan apakah hari tersebut adalah hari kerja. Hari kerja adalah hari yang bukan akhir pekan atau hari libur.\n",
        "  - 1: Hari kerja\n",
        "  - 0: Bukan hari kerja (akhir pekan atau hari libur)\n",
        "- weathersit: Menjelaskan kondisi cuaca pada hari tersebut.\n",
        "  - 1: Clear, Few clouds, Partly cloudy\n",
        "  - 2: Mist, Cloudy, Broken clouds\n",
        "  - 3: Light Snow, Light Rain + Thunderstorm, Scattered clouds\n",
        "  - 4: Heavy Rain, Snow, Ice pellets, Fog\n",
        "- temp: Suhu ter-normalisasi (dalam Celsius), dengan nilai maksimum 41°C.\n",
        "- atemp: Suhu \"perasaan\" ter-normalisasi (dalam Celsius), dengan nilai maksimum 50°C.\n",
        "- hum: Kelembaban ter-normalisasi, dengan nilai maksimum 100.\n",
        "- windspeed: Kecepatan angin ter-normalisasi, dengan nilai maksimum 67.\n",
        "- casual: Jumlah pengguna sepeda casual (pengguna yang tidak terdaftar).\n",
        "- registered: Jumlah pengguna sepeda terdaftar.\n",
        "- cnt: Jumlah total penyewaan sepeda (jumlah dari pengguna casual dan terdaftar).\n",
        "Dataset ini memberikan informasi berharga mengenai perilaku penyewaan sepeda berbasis kondisi cuaca, musim, dan faktor kontekstual lainnya. Tujuan utamanya sering kali adalah untuk memprediksi jumlah penyewaan sepeda berdasarkan data lingkungan dan musiman."
      ],
      "metadata": {
        "id": "MMi6xGaDkbCi"
      }
    },
    {
      "cell_type": "markdown",
      "metadata": {
        "id": "FHSiqaZp8DC1"
      },
      "source": [
        "### Assessing Data\n",
        "- Setelah semua data yang dibutuhkan terkumpul, proses selanjutnya ialah penilaian terhadap data tersebut. Proses ini dilakukan untuk menilai kualitas dan struktur dari sebuah data. Selain itu, proses ini juga bertujuan untuk mengidentifikasi berbagai masalah yang terdapat dalam data, seperti missing value, unstandard value, dll."
      ]
    },
    {
      "cell_type": "markdown",
      "source": [
        "#### Memeriksa Missing Values\n",
        "Langkah berikutnya adalah memeriksa apakah ada nilai yang hilang dalam dataset. Data yang hilang dapat memengaruhi hasil analisis, jadi penting untuk mengidentifikasinya terlebih dahulu."
      ],
      "metadata": {
        "id": "ybbOWcZObb5D"
      }
    },
    {
      "cell_type": "code",
      "source": [
        "# Memeriksa nilai yang hilang di kedua dataset\n",
        "hour_missing = hour_df.isnull().sum()\n",
        "day_missing = day_df.isnull().sum()\n",
        "\n",
        "# Menampilkan jumlah nilai yang hilang\n",
        "hour_missing, day_missing"
      ],
      "metadata": {
        "id": "ax-3tEjc9Cj1",
        "colab": {
          "base_uri": "https://localhost:8080/"
        },
        "outputId": "e25b52b7-e6ec-41fa-ec30-0044ca3c0e05"
      },
      "execution_count": 80,
      "outputs": [
        {
          "output_type": "execute_result",
          "data": {
            "text/plain": [
              "(instant       0\n",
              " dteday        0\n",
              " season        0\n",
              " yr            0\n",
              " mnth          0\n",
              " hr            0\n",
              " holiday       0\n",
              " weekday       0\n",
              " workingday    0\n",
              " weathersit    0\n",
              " temp          0\n",
              " atemp         0\n",
              " hum           0\n",
              " windspeed     0\n",
              " casual        0\n",
              " registered    0\n",
              " cnt           0\n",
              " dtype: int64,\n",
              " instant       0\n",
              " dteday        0\n",
              " season        0\n",
              " yr            0\n",
              " mnth          0\n",
              " holiday       0\n",
              " weekday       0\n",
              " workingday    0\n",
              " weathersit    0\n",
              " temp          0\n",
              " atemp         0\n",
              " hum           0\n",
              " windspeed     0\n",
              " casual        0\n",
              " registered    0\n",
              " cnt           0\n",
              " dtype: int64)"
            ]
          },
          "metadata": {},
          "execution_count": 80
        }
      ]
    },
    {
      "cell_type": "markdown",
      "source": [
        "**Insight:**\n",
        "- Tidak ada missing values di kedua dataset hour dan day. Ini adalah hasil yang sangat baik, karena artinya kita dapat melanjutkan analisis tanpa perlu menangani data yang hilang.\n",
        "- Kesimpulan: Dataset sudah lengkap dan siap untuk dianalisis lebih lanjut tetapi sebelum itu saya akan memeriksa outlier terlebih dahulu."
      ],
      "metadata": {
        "id": "7dtxhAPrkhPL"
      }
    },
    {
      "cell_type": "markdown",
      "source": [
        "#### Memeriksa Outlier\n",
        "Selanjutnya, kita memeriksa apakah ada outliers dalam data, karena outlier dapat memengaruhi hasil analisis kita. Untuk memeriksa outlier, kita akan menggunakan boxplot dan IQR (Interquartile Range).\n",
        "\n",
        "dapat dilihat di pertanyaan bisnis, kolom yang paling berhubungan langsung adalah cnt dengan analisis jumlah penyewaan sepeda sehingga saya memfokuskan pembersihan outlier pada kolom ini"
      ],
      "metadata": {
        "id": "0LcxnluYbw1v"
      }
    },
    {
      "cell_type": "code",
      "source": [
        "# Membuat boxplot untuk melihat distribusi jumlah penyewaan (cnt) pada data per jam dan per hari\n",
        "plt.figure(figsize=(12, 6))\n",
        "\n",
        "# Boxplot untuk data per jam\n",
        "plt.subplot(1, 2, 1)\n",
        "sns.boxplot(x=hour_df['cnt'])\n",
        "plt.title('Boxplot Jumlah Penyewaan (Per Jam)')\n",
        "\n",
        "# Boxplot untuk data per hari\n",
        "plt.subplot(1, 2, 2)\n",
        "sns.boxplot(x=day_df['cnt'])\n",
        "plt.title('Boxplot Jumlah Penyewaan (Per Hari)')\n",
        "\n",
        "plt.tight_layout()\n",
        "plt.show()"
      ],
      "metadata": {
        "colab": {
          "base_uri": "https://localhost:8080/",
          "height": 0
        },
        "id": "R_5jz6kcdIrb",
        "outputId": "75622a2e-2b05-4681-ce85-aa0617f76eee"
      },
      "execution_count": 81,
      "outputs": [
        {
          "output_type": "display_data",
          "data": {
            "text/plain": [
              "<Figure size 1200x600 with 2 Axes>"
            ],
            "image/png": "[encoded data removed]"
          },
          "metadata": {}
        }
      ]
    },
    {
      "cell_type": "markdown",
      "source": [
        "**Insight:**\n",
        "- Boxplot menunjukkan bahwa ada beberapa outlier yang terletak di luar rentang distribusi normal, baik pada dataset per jam maupun per hari. Outlier ini mungkin menunjukkan jumlah penyewaan yang sangat tinggi atau rendah yang tidak umum.\n",
        "- Kesimpulan: Outlier perlu dianalisis lebih lanjut. Jika jumlahnya sangat ekstrem, kita bisa memilih untuk menghapusnya, atau jika masih masuk akal (misalnya hari libur besar atau cuaca ekstrem), kita bisa membiarkannya."
      ],
      "metadata": {
        "id": "QFpT3zBBbGqC"
      }
    },
    {
      "cell_type": "code",
      "source": [
        "# Menghitung IQR untuk data per jam (hour dataset)\n",
        "Q1_hour = hour_df['cnt'].quantile(0.25)\n",
        "Q3_hour = hour_df['cnt'].quantile(0.75)\n",
        "IQR_hour = Q3_hour - Q1_hour\n",
        "\n",
        "# Menentukan batas bawah dan batas atas untuk outlier\n",
        "maximum_hour = Q3_hour + (1.5 * IQR_hour)\n",
        "minimum_hour = Q1_hour - (1.5 * IQR_hour)\n",
        "\n",
        "# Mengidentifikasi kondisi outlier untuk data per jam\n",
        "kondisi_lower_than_hour = hour_df['cnt'] < minimum_hour\n",
        "kondisi_more_than_hour = hour_df['cnt'] > maximum_hour\n",
        "\n",
        "# Menampilkan jumlah outlier untuk data per jam\n",
        "hour_outliers = hour_df[kondisi_lower_than_hour | kondisi_more_than_hour]\n",
        "hour_outliers.shape  # Menampilkan jumlah outlier yang terdeteksi\n",
        "\n",
        "# Menghitung IQR untuk data per hari (day dataset)\n",
        "Q1_day = day_df['cnt'].quantile(0.25)\n",
        "Q3_day = day_df['cnt'].quantile(0.75)\n",
        "IQR_day = Q3_day - Q1_day\n",
        "\n",
        "# Menentukan batas bawah dan batas atas untuk outlier\n",
        "maximum_day = Q3_day + (1.5 * IQR_day)\n",
        "minimum_day = Q1_day - (1.5 * IQR_day)\n",
        "\n",
        "# Mengidentifikasi kondisi outlier untuk data per hari\n",
        "kondisi_lower_than_day = day_df['cnt'] < minimum_day\n",
        "kondisi_more_than_day = day_df['cnt'] > maximum_day\n",
        "\n",
        "# Menampilkan jumlah outlier untuk data per hari\n",
        "day_outliers = day_df[kondisi_lower_than_day | kondisi_more_than_day]\n",
        "day_outliers.shape  # Menampilkan jumlah outlier yang terdeteksi"
      ],
      "metadata": {
        "colab": {
          "base_uri": "https://localhost:8080/"
        },
        "id": "TRFmEIqLeqV8",
        "outputId": "e83577c7-8478-4c71-e77f-7fab1b325b2c"
      },
      "execution_count": 82,
      "outputs": [
        {
          "output_type": "execute_result",
          "data": {
            "text/plain": [
              "(0, 16)"
            ]
          },
          "metadata": {},
          "execution_count": 82
        }
      ]
    },
    {
      "cell_type": "markdown",
      "source": [
        "**Insight:**\n",
        "- Output dari kode di atas akan memberi tahu kita berapa banyak outliers yang terdeteksi pada data per jam dan per hari.\n",
        "- hour_outliers.shape dan day_outliers.shape menunjukkan jumlah baris yang terdeteksi sebagai outliers pada masing-masing dataset.\n",
        "- Hasil:\n",
        "  - hour_outliers.shape = (16, X): Artinya ada 16 outliers di data per jam.\n",
        "  - day_outliers.shape = (0, X): Artinya tidak ada outliers di data per hari.\n",
        "- Kesimpulan: Kita menemukan 16 outliers di data per jam, yang bisa jadi disebabkan oleh kejadian ekstrem. Namun, data per hari tidak menunjukkan adanya outlier.\n"
      ],
      "metadata": {
        "id": "HiFXGheAfq26"
      }
    },
    {
      "cell_type": "markdown",
      "metadata": {
        "id": "EhN5R4hr8DC1"
      },
      "source": [
        "### Cleaning Data\n",
        "- Apabila pada proses sebelumnya kita menemukan masalah (missing value, outlier, dll.) yang terdapat di dalam sebuah data, masalah tersebut harus dibersihkan sebelum masuk tahap analisis data. Terdapat beberapa teknik yang dapat kita gunakan untuk membersihkan data.\n"
      ]
    },
    {
      "cell_type": "code",
      "source": [
        "# Menghapus outlier dari data per jam (hour dataset)\n",
        "hour_df_cleaned = hour_df.drop(hour_df[kondisi_lower_than_hour].index, inplace=False)\n",
        "hour_df_cleaned = hour_df_cleaned.drop(hour_df_cleaned[kondisi_more_than_hour].index, inplace=False)\n",
        "\n",
        "# Menghapus outlier dari data per hari (day dataset)\n",
        "day_df_cleaned = day_df.drop(day_df[kondisi_lower_than_day].index, inplace=False)\n",
        "day_df_cleaned = day_df_cleaned.drop(day_df_cleaned[kondisi_more_than_day].index, inplace=False)\n",
        "\n",
        "# Menampilkan jumlah data setelah pembersihan\n",
        "hour_df_cleaned.shape, day_df_cleaned.shape"
      ],
      "metadata": {
        "colab": {
          "base_uri": "https://localhost:8080/"
        },
        "id": "v6McOaS-lpyl",
        "outputId": "f2600349-3102-4e60-9d84-dc75dbc97482"
      },
      "execution_count": 83,
      "outputs": [
        {
          "output_type": "execute_result",
          "data": {
            "text/plain": [
              "((16874, 17), (731, 16))"
            ]
          },
          "metadata": {},
          "execution_count": 83
        }
      ]
    },
    {
      "cell_type": "markdown",
      "source": [
        "**Insight:**\n",
        "- Menghapus outlier memungkinkan kita untuk bekerja dengan data yang lebih terfokus pada tren utama, tanpa dipengaruhi oleh data yang ekstrem.\n",
        "- Data per jam memiliki 16 outliers yang telah dihapus untuk mendapatkan dataset yang lebih representatif.\n",
        "- Data per hari tidak memiliki outliers, tetapi kita tetap melakukan proses pembersihan agar konsisten.\n",
        "- Kesimpulan: Pembersihan outlier berguna untuk memastikan bahwa data yang kita analisis adalah data yang lebih wajar dan tidak dipengaruhi oleh fluktuasi yang sangat ekstrim.\n"
      ],
      "metadata": {
        "id": "Q_5ejIqckiSP"
      }
    },
    {
      "cell_type": "code",
      "source": [
        "# Mengonversi 'dteday' menjadi format datetime\n",
        "hour_df_cleaned['dteday'] = pd.to_datetime(hour_df_cleaned['dteday'])\n",
        "day_df_cleaned['dteday'] = pd.to_datetime(day_df_cleaned['dteday'])\n",
        "\n",
        "# Memastikan tipe data sudah benar\n",
        "hour_df_cleaned.dtypes, day_df_cleaned.dtypes"
      ],
      "metadata": {
        "colab": {
          "base_uri": "https://localhost:8080/"
        },
        "id": "bpXXG9udoTPy",
        "outputId": "0cb35d70-8b16-4137-c91c-2b54d7649530"
      },
      "execution_count": 84,
      "outputs": [
        {
          "output_type": "execute_result",
          "data": {
            "text/plain": [
              "(instant                int64\n",
              " dteday        datetime64[ns]\n",
              " season                 int64\n",
              " yr                     int64\n",
              " mnth                   int64\n",
              " hr                     int64\n",
              " holiday                int64\n",
              " weekday                int64\n",
              " workingday             int64\n",
              " weathersit             int64\n",
              " temp                 float64\n",
              " atemp                float64\n",
              " hum                  float64\n",
              " windspeed            float64\n",
              " casual                 int64\n",
              " registered             int64\n",
              " cnt                    int64\n",
              " dtype: object,\n",
              " instant                int64\n",
              " dteday        datetime64[ns]\n",
              " season                 int64\n",
              " yr                     int64\n",
              " mnth                   int64\n",
              " holiday                int64\n",
              " weekday                int64\n",
              " workingday             int64\n",
              " weathersit             int64\n",
              " temp                 float64\n",
              " atemp                float64\n",
              " hum                  float64\n",
              " windspeed            float64\n",
              " casual                 int64\n",
              " registered             int64\n",
              " cnt                    int64\n",
              " dtype: object)"
            ]
          },
          "metadata": {},
          "execution_count": 84
        }
      ]
    },
    {
      "cell_type": "markdown",
      "source": [
        "**Insight:**\n",
        "- Mengonversi kolom dteday menjadi objek datetime memungkinkan kita untuk melakukan analisis berbasis waktu dengan lebih mudah, seperti mengelompokkan data berdasarkan bulan atau tahun.\n",
        "- Kesimpulan: Data sudah siap untuk dianalisis lebih lanjut setelah proses pembersihan dan pengonversian tipe data.\n"
      ],
      "metadata": {
        "id": "FPYHGvPqoevL"
      }
    },
    {
      "cell_type": "markdown",
      "metadata": {
        "id": "gp-Y6wU38DC1"
      },
      "source": [
        "## Exploratory Data Analysis (EDA)"
      ]
    },
    {
      "cell_type": "code",
      "source": [
        "#Agregasi data untuk hari kerja vs akhir pekan\n",
        "aggregated_workday_df = day_df_cleaned.groupby('workingday').agg(\n",
        "    avg_rentals=('cnt', 'mean'),\n",
        "    total_rentals=('cnt', 'sum')\n",
        ").reset_index()\n",
        "\n",
        "# Menampilkan hasil agregasi untuk hari kerja vs akhir pekan\n",
        "print(\"\\nAgregasi Penyewaan Sepeda untuk Hari Kerja vs Akhir Pekan:\")\n",
        "print(aggregated_workday_df)"
      ],
      "metadata": {
        "colab": {
          "base_uri": "https://localhost:8080/"
        },
        "id": "5xAoYikheGqY",
        "outputId": "06da295e-6878-485e-89e5-982cbfa15fdd"
      },
      "execution_count": 86,
      "outputs": [
        {
          "output_type": "stream",
          "name": "stdout",
          "text": [
            "\n",
            "Agregasi Penyewaan Sepeda untuk Hari Kerja vs Akhir Pekan:\n",
            "   workingday  avg_rentals  total_rentals\n",
            "0           0  4330.168831        1000269\n",
            "1           1  4584.820000        2292410\n"
          ]
        }
      ]
    },
    {
      "cell_type": "markdown",
      "source": [
        "Insight:\n",
        "- Hari Kerja = 1 menunjukkan penyewaan sepeda lebih tinggi dengan rata-rata 4584.8 dan total 2,292,410, dibandingkan dengan akhir pekan = 0 yang memiliki rata-rata 4330.2 dan total 1,000,269.\n",
        "- Penyewaan lebih tinggi pada hari kerja, kemungkinan besar karena sepeda digunakan untuk tujuan transportasi (seperti berangkat kerja) selama hari kerja."
      ],
      "metadata": {
        "id": "bskbx5GQK-Et"
      }
    },
    {
      "cell_type": "code",
      "source": [
        "#Agregasi penyewaan sepeda berdasarkan jam\n",
        "aggregated_hour_df = hour_df_cleaned.groupby('hr').agg(\n",
        "    total_rentals=('cnt', 'sum')\n",
        ").reset_index()\n",
        "\n",
        "# Menampilkan hasil agregasi penyewaan per jam\n",
        "print(\"\\nAgregasi Penyewaan Sepeda Berdasarkan Jam Hari:\")\n",
        "print(aggregated_hour_df)"
      ],
      "metadata": {
        "colab": {
          "base_uri": "https://localhost:8080/"
        },
        "id": "OM6gtnc2eoKK",
        "outputId": "193d9626-e2bb-4309-ce40-02a88a10da96"
      },
      "execution_count": 99,
      "outputs": [
        {
          "output_type": "stream",
          "name": "stdout",
          "text": [
            "\n",
            "Agregasi Penyewaan Sepeda Berdasarkan Jam Hari:\n",
            "    hr  total_rentals\n",
            "0    0          39130\n",
            "1    1          24164\n",
            "2    2          16352\n",
            "3    3           8174\n",
            "4    4           4428\n",
            "5    5          14261\n",
            "6    6          55132\n",
            "7    7         154171\n",
            "8    8         170715\n",
            "9    9         159438\n",
            "10  10         126257\n",
            "11  11         150010\n",
            "12  12         172651\n",
            "13  13         169129\n",
            "14  14         165396\n",
            "15  15         174172\n",
            "16  16         219529\n",
            "17  17         214962\n",
            "18  18         209297\n",
            "19  19         217395\n",
            "20  20         164550\n",
            "21  21         125445\n",
            "22  22          95612\n",
            "23  23          63941\n"
          ]
        }
      ]
    },
    {
      "cell_type": "markdown",
      "source": [
        "Insight:\n",
        "- Penyewaan sepeda tertinggi terjadi pada jam 4 sore dengan total 219.529 penyewaan. Ini adalah waktu pulang kerja dan banyak orang kembali beraktivitas, sehingga penyewaan sepeda meningkat kembali, karena orang-orang kembali menggunakan sepeda untuk pulang kerja.\n",
        "- penyewaan sepeda terendah terjadi pada jam 4 pagi dengan total 4428. diakibatkan masih banyak yang berada di rumah pada jam tersebut"
      ],
      "metadata": {
        "id": "0wSurjWgLDfO"
      }
    },
    {
      "cell_type": "code",
      "source": [
        "#Penyewaan sepeda berdasarkan tahun (yr)\n",
        "aggregated_year_df = day_df_cleaned.groupby('yr').agg(\n",
        "    avg_rentals=('cnt', 'mean'),\n",
        "    total_rentals=('cnt', 'sum')\n",
        ").reset_index()\n",
        "\n",
        "print(\"\\nAgregasi Penyewaan Sepeda Berdasarkan Tahun:\")\n",
        "print(aggregated_year_df)"
      ],
      "metadata": {
        "colab": {
          "base_uri": "https://localhost:8080/"
        },
        "id": "hdpAc4gwOBai",
        "outputId": "5a48c9be-aefd-4dd7-b1be-72b4e293ca6d"
      },
      "execution_count": 89,
      "outputs": [
        {
          "output_type": "stream",
          "name": "stdout",
          "text": [
            "\n",
            "Agregasi Penyewaan Sepeda Berdasarkan Tahun:\n",
            "   yr  avg_rentals  total_rentals\n",
            "0   0  3405.761644        1243103\n",
            "1   1  5599.934426        2049576\n"
          ]
        }
      ]
    },
    {
      "cell_type": "markdown",
      "source": [
        "Insight:\n",
        "- Penyewaan sepeda meningkat dari 3405.8 (tahun 0) menjadi 5599.9 (tahun 1), dengan peningkatan total penyewaan dari 1,243,103 menjadi 2,049,576. Ini menunjukkan bahwa penyewaan sepeda semakin populer seiring berjalannya waktu."
      ],
      "metadata": {
        "id": "hSHzKyklNtlf"
      }
    },
    {
      "cell_type": "code",
      "source": [
        "#Penyewaan sepeda berdasarkan cuaca (weathersit)\n",
        "aggregated_weather_df = day_df_cleaned.groupby('weathersit').agg(\n",
        "    avg_rentals=('cnt', 'mean'),\n",
        "    total_rentals=('cnt', 'sum')\n",
        ").reset_index()\n",
        "\n",
        "print(\"\\nAgregasi Penyewaan Sepeda Berdasarkan Cuaca:\")\n",
        "print(aggregated_weather_df)"
      ],
      "metadata": {
        "colab": {
          "base_uri": "https://localhost:8080/"
        },
        "id": "QvuTjNf-Oamk",
        "outputId": "e8a1c238-2d67-4d02-a933-7083cfbf2fe9"
      },
      "execution_count": 91,
      "outputs": [
        {
          "output_type": "stream",
          "name": "stdout",
          "text": [
            "\n",
            "Agregasi Penyewaan Sepeda Berdasarkan Cuaca:\n",
            "   weathersit  avg_rentals  total_rentals\n",
            "0           1  4876.786177        2257952\n",
            "1           2  4035.862348         996858\n",
            "2           3  1803.285714          37869\n"
          ]
        }
      ]
    },
    {
      "cell_type": "markdown",
      "source": [
        "Insight:\n",
        "- Weathersit 1 (Clear, Few clouds, Partly cloudy) menunjukkan penyewaan sepeda yang sangat tinggi, dengan rata-rata 4876.8 dan total 2,257,952 penyewaan.\n",
        "- Penyewaan sepeda menurun pada Weathersit 2 (Mist, Cloudy, Broken clouds) dan Weathersit 3 (Light Snow, Light Rain + Thunderstorm, Scattered clouds), menunjukkan bahwa cuaca buruk mengurangi minat orang untuk bersepeda."
      ],
      "metadata": {
        "id": "pzRzCv4bOD2h"
      }
    },
    {
      "cell_type": "markdown",
      "source": [
        "KESIMPULAN:\n",
        "- Penyewaan Sepeda pada Hari Kerja vs Akhir Pekan:\n",
        "  - Penyewaan sepeda lebih tinggi pada hari kerja = 1 dibandingkan dengan akhir pekan = 0. Pada hari kerja, rata-rata penyewaan sepeda adalah 4584.8 dengan total 2,292,410 penyewaan, sedangkan pada akhir pekan rata-rata penyewaan adalah 4330.2 dengan total 1,000,269 penyewaan. Hal ini menunjukkan bahwa sepeda lebih banyak digunakan untuk tujuan transportasi seperti berangkat kerja atau sekolah selama hari kerja.\n",
        "- Penyewaan Sepeda Berdasarkan Jam:\n",
        "\n",
        "  - Penyewaan sepeda tertinggi terjadi pada jam 4 sore dengan total penyewaan 219,529 sepeda. Waktu ini bertepatan dengan waktu pulang kerja, di mana banyak orang menggunakan sepeda untuk pulang kerja atau melanjutkan aktivitas setelah bekerja, sehingga jumlah penyewaan meningkat.\n",
        "  - Penyewaan sepeda terendah terjadi pada jam 4 pagi dengan total 4,428 penyewaan. Pada jam ini, banyak orang yang masih berada di rumah dan tidak banyak aktivitas luar ruangan, yang menyebabkan rendahnya penyewaan sepeda.\n",
        "- Penyewaan Sepeda Berdasarkan Tahun:\n",
        "\n",
        "  - Penyewaan sepeda terus meningkat dari 3405.8 pada tahun 0 menjadi 5599.9 pada tahun 1, dengan peningkatan total penyewaan dari 1,243,103 menjadi 2,049,576. Ini menunjukkan bahwa penyewaan sepeda semakin populer seiring berjalannya waktu, yang dapat disebabkan oleh peningkatan kesadaran akan pentingnya bersepeda serta perbaikan infrastruktur yang mendukung.\n",
        "- Pengaruh Cuaca terhadap Penyewaan Sepeda:\n",
        "\n",
        "  - Weathersit 1 (Clear, Few clouds, Partly cloudy) menunjukkan penyewaan sepeda yang sangat tinggi, dengan rata-rata 4876.8 dan total 2,257,952 penyewaan. Cuaca cerah atau sedikit berawan adalah kondisi yang paling mendukung bagi aktivitas bersepeda.\n",
        "  - Weathersit 2 (Mist, Cloudy, Broken clouds) dan Weathersit 3 (Light Snow, Light Rain + Thunderstorm, Scattered clouds) menunjukkan penurunan signifikan dalam penyewaan sepeda, yang mencerminkan bahwa cuaca buruk seperti kabut, hujan ringan, atau salju mengurangi minat orang untuk bersepeda."
      ],
      "metadata": {
        "id": "GgENUEMnOjRK"
      }
    },
    {
      "cell_type": "markdown",
      "metadata": {
        "id": "zsyZjqak8DC2"
      },
      "source": [
        "## Visualization & Explanatory Analysis"
      ]
    },
    {
      "cell_type": "markdown",
      "metadata": {
        "id": "DgHI7CiU8DC2"
      },
      "source": [
        "### Pertanyaan 1: Mengapa jumlah penyewaan sepeda cenderung lebih tinggi pada hari kerja dibandingkan dengan akhir pekan?\n",
        "\n",
        "Untuk menjawab ini, saya akan membandingkan penyewaan sepeda pada hari kerja vs akhir pekan."
      ]
    },
    {
      "cell_type": "code",
      "source": [
        "# Visualisasi pie chart untuk jumlah penyewaan sepeda pada hari kerja vs akhir pekan\n",
        "plt.figure(figsize=(8, 8))\n",
        "plt.pie(aggregated_workday_df['total_rentals'], labels=['Akhir Pekan', 'Hari Kerja'], autopct='%1.1f%%', startangle=90, colors=['#66b3ff', '#99ff99'])\n",
        "plt.title(\"Proporsi Jumlah Penyewaan Sepeda: Hari Kerja vs Akhir Pekan\")\n",
        "plt.show()"
      ],
      "metadata": {
        "colab": {
          "base_uri": "https://localhost:8080/",
          "height": 675
        },
        "id": "ufARSMU7ytpk",
        "outputId": "8a11ff13-416c-4314-e93f-9ff3390e7ae5"
      },
      "execution_count": 93,
      "outputs": [
        {
          "output_type": "display_data",
          "data": {
            "text/plain": [
              "<Figure size 800x800 with 1 Axes>"
            ],
            "image/png": "[encoded data removed]"
          },
          "metadata": {}
        }
      ]
    },
    {
      "cell_type": "markdown",
      "source": [
        "**Insight:**\n",
        "#### Pada grafik pie chart, kita menggambarkan proporsi penyewaan sepeda antara hari kerja dan akhir pekan.\n",
        "\n",
        "- Hari Kerja (workingday = 1):\n",
        "  - Proporsi jumlah penyewaan sepeda pada hari kerja cukup besar, lebih dari 69.6% dari total penyewaan sepeda. Ini mengonfirmasi bahwa hari kerja adalah waktu yang paling banyak digunakan untuk bersepeda, terutama untuk keperluan transportasi sehari-hari.\n",
        "- Akhir Pekan (workingday = 0):\n",
        "  - Penyewaan sepeda pada akhir pekan memiliki proporsi yang lebih kecil, kurang dari 30.4% dari total penyewaan sepeda. Hal ini mengindikasikan bahwa lebih sedikit orang yang memilih sepeda sebagai alat transportasi di akhir pekan.\n",
        "\n",
        "Kesimpulan dari Data:\n",
        "- Hari kerja merupakan waktu yang lebih padat untuk penyewaan sepeda, dengan lebih banyak orang yang menggunakan sepeda untuk keperluan sehari-hari seperti bekerja, sekolah, dan kegiatan lainnya.\n",
        "- Akhir pekan cenderung memiliki penyewaan yang lebih rendah, mungkin karena orang lebih memilih beristirahat, melakukan aktivitas lain, atau menggunakan kendaraan pribadi untuk perjalanan mereka.\n",
        "\n",
        "Rekomendasi:\n",
        "- Untuk Meningkatkan Penyewaan Sepeda pada Akhir Pekan:\n",
        "  - Bisa diberikan promosi atau paket bersepeda grup untuk menarik lebih banyak orang untuk bersepeda pada akhir pekan.\n",
        "  - Menawarkan program wisata bersepeda atau acara komunitas bersepeda dapat meningkatkan minat orang untuk bersepeda bersama keluarga atau teman-teman mereka di akhir pekan.\n"
      ],
      "metadata": {
        "id": "_0-36BDLklRg"
      }
    },
    {
      "cell_type": "markdown",
      "source": [
        "### Pertanyaan 2: Kapan waktu paling banyak untuk penyewaan sepeda selama sehari?\n",
        "\n",
        "Untuk menjawab ini, saya akan memvisualisasikan penyewaan sepeda berdasarkan jam."
      ],
      "metadata": {
        "id": "euPHeAdx2N_L"
      }
    },
    {
      "cell_type": "code",
      "source": [
        "# Visualisasi tren penyewaan sepeda per jam\n",
        "hourly_trend = hour_df_cleaned.groupby('hr')['cnt'].mean()\n",
        "hourly_trend.plot(kind='line', marker='o', color='green')\n",
        "plt.title('Penyewaan Sepeda per Jam')\n",
        "plt.xlabel('Jam dalam Sehari')\n",
        "plt.ylabel('Rata-rata Penyewaan Sepeda')\n",
        "plt.xticks(range(0, 24, 1))  # Menampilkan setiap jam\n",
        "plt.grid(True)\n",
        "plt.show()"
      ],
      "metadata": {
        "colab": {
          "base_uri": "https://localhost:8080/",
          "height": 472
        },
        "id": "UTh1z37P2ZbO",
        "outputId": "d1cbbb26-99a7-40cb-9d9b-c3224a1c9405"
      },
      "execution_count": 94,
      "outputs": [
        {
          "output_type": "display_data",
          "data": {
            "text/plain": [
              "<Figure size 640x480 with 1 Axes>"
            ],
            "image/png": "[encoded data removed]"
          },
          "metadata": {}
        }
      ]
    },
    {
      "cell_type": "markdown",
      "source": [
        "**Insight:**\n",
        "#### Penjelasan Tren Penyewaan Sepeda per Jam:\n",
        "1. Jam 12 Malam hingga Jam 5 Pagi (Rendah):\n",
        "\n",
        "  - Penyewaan Sepeda Sangat Rendah pada periode ini. Ini terjadi karena sebagian besar orang tidur, dan tidak ada aktivitas luar ruangan pada malam hari. Oleh karena itu, penyewaan sepeda tidak terjadi atau sangat sedikit pada jam-jam ini.\n",
        "2. Jam 6 Pagi hingga Jam 6 Sore (Meningkat dengan Penurunan di Siang Hari):\n",
        "\n",
        "  - Penyewaan Sepeda Meningkat Secara Signifikan pada jam 6 pagi hingga 9 pagi, yang merupakan jam puncak pagi di mana orang-orang berangkat kerja atau sekolah. Pada waktu ini, permintaan sepeda sangat tinggi karena banyak orang yang menggunakan sepeda untuk transportasi.\n",
        "  - Setelah jam 9 pagi, meskipun ada penurunan sedikit, jumlah penyewaan tetap tinggi hingga sekitar jam 12 siang. Penyewaan sepeda pada periode ini masih cukup ramai karena orang-orang yang bergerak di luar.\n",
        "  - Penurunan pada jam 12 siang hingga 2 siang lebih berkaitan dengan aktivitas dalam ruangan, seperti makan siang, di mana banyak orang memilih untuk beristirahat atau makan. Sebagian orang mungkin memilih untuk makan di dalam ruangan, atau berjalan kaki ke tempat makan terdekat, mengurangi kebutuhan untuk menggunakan sepeda pada jam-jam tersebut.\n",
        "  - Jam 3 sore hingga 6 sore kembali menunjukkan peningkatan yang cukup besar dan puncaknya pada jam 5 sore. Ini adalah waktu pulang kerja dan banyak orang kembali beraktivitas, sehingga penyewaan sepeda meningkat kembali, karena orang-orang kembali menggunakan sepeda untuk pulang kerja.\n",
        "3. Jam 7 Malam hingga Jam 11 Malam (Turun):\n",
        "\n",
        "- Setelah jam 6 sore, kita melihat penurunan yang signifikan, terutama pada jam 7 malam hingga jam 11 malam. Hal ini menunjukkan bahwa setelah jam sibuk (pagi dan sore), orang lebih memilih untuk beristirahat di rumah, dan aktivitas luar ruangan berkurang. Pada malam hari, orang-orang lebih jarang bersepeda, dan biasanya mereka lebih memilih beristirahat atau melakukan aktivitas indoor.\n",
        "\n",
        "Kesimpulan dari Tren Penyewaan Sepeda per Jam:\n",
        "- Jam Puncak Penyewaan Sepeda terjadi pada jam 6 pagi hingga jam 9 pagi dan jam 3 sore hingga jam 6 sore, yang merupakan waktu berangkat dan pulang kerja. Pada waktu ini, penyewaan sepeda sangat tinggi karena sepeda banyak digunakan untuk transportasi harian.\n",
        "- Penurunan Penyewaan Sepeda pada Siang Hari (12 siang hingga 2 siang) disebabkan oleh aktivitas dalam ruangan seperti makan siang dan istirahat. Banyak orang memilih untuk beristirahat atau makan di dalam ruangan, mengurangi penggunaan sepeda pada jam-jam tersebut.\n",
        "- Jam Malam (7 malam hingga 11 malam) menunjukkan penurunan yang lebih drastis, kemungkinan besar karena orang lebih memilih untuk beristirahat atau melakukan aktivitas indoor setelah jam sibuk."
      ],
      "metadata": {
        "id": "3BGX1qlq2rDD"
      }
    },
    {
      "cell_type": "markdown",
      "source": [
        "## Analisis Lanjutan (Opsional)"
      ],
      "metadata": {
        "id": "9y4VUsmcYNZ5"
      }
    },
    {
      "cell_type": "code",
      "source": [
        "hour_df_cleaned.to_csv(\"/hour_data_cleaned.csv\", index=False)\n",
        "day_df_cleaned.to_csv(\"/day_data_cleaned.csv\", index=False)"
      ],
      "metadata": {
        "id": "iWhnzsJGYUCO"
      },
      "execution_count": 95,
      "outputs": []
    },
    {
      "cell_type": "markdown",
      "metadata": {
        "id": "_WeHlCeX8DC2"
      },
      "source": [
        "## Conclusion"
      ]
    },
    {
      "cell_type": "markdown",
      "metadata": {
        "id": "ZTcyR48Y8DC2"
      },
      "source": [
        "Dalam proyek analisis data ini, saya melakukan analisis terhadap dataset penyewaan sepeda untuk menggali faktor-faktor yang memengaruhi volume penyewaan. Hasil analisis menunjukkan beberapa temuan penting yang dapat digunakan untuk merumuskan strategi yang lebih baik dalam pengelolaan penyewaan sepeda, khususnya terkait dengan perbedaan antara hari kerja dan akhir pekan serta pola waktu penyewaan sepanjang hari.\n",
        "\n",
        "1. Penyewaan Sepeda Lebih Tinggi pada Hari Kerja Dibandingkan Akhir Pekan: Berdasarkan data yang diperoleh, jumlah penyewaan sepeda pada hari kerja jauh lebih tinggi dibandingkan dengan akhir pekan. dimana jumlah penyewaan terbanyak pada hari kerja yaitu total sebanyak 2.292.410 Temuan ini menunjukkan bahwa aktivitas mobilitas yang lebih tinggi pada hari kerja mungkin karena kebutuhan transportasi untuk bekerja atau beraktivitas di luar lebih mempengaruhi penggunaan sepeda dibandingkan dengan akhir pekan. Hal ini juga mungkin terkait dengan adanya komuter yang lebih banyak di hari kerja yang memilih sepeda sebagai alternatif transportasi.\n",
        "\n",
        "2. Pola Waktu Penyewaan Sepeda Sepanjang Hari: Analisis lebih lanjut pada waktu penyewaan sepeda sepanjang hari menunjukkan bahwa waktu puncak penyewaan terjadi pada pukul 08.00 hingga 09.00 dan pukul 17.00 hingga 18.00. Data menunjukkan bahwa pada kedua waktu tersebut, jumlah penyewaan mencapai angka tertinggi, masing-masing sekitar 150 unit per jam. Ini menunjukkan bahwa sepeda digunakan secara intensif pada jam-jam tertentu yang berhubungan dengan jam-jam sibuk, yaitu jam pergi dan pulang kerja. Temuan ini memberikan wawasan berharga bagi pengelola untuk lebih memfokuskan penyediaan sepeda pada jam-jam puncak tersebut.\n",
        "\n",
        "3. Implikasi untuk Kebijakan Bisnis dan Pengelolaan Layanan: Berdasarkan temuan-temuan ini, operator penyewaan sepeda dapat mempertimbangkan untuk meningkatkan jumlah sepeda yang tersedia pada hari kerja, khususnya pada jam-jam puncak, guna memenuhi permintaan yang lebih tinggi. Selain itu, strategi promosi juga dapat difokuskan pada hari kerja dengan memberikan potongan harga atau insentif lainnya untuk menarik pengguna, mengingat tingginya permintaan pada waktu-waktu tersebut.\n",
        "\n",
        "Secara keseluruhan, hasil analisis ini memberikan dasar yang kuat untuk perencanaan lebih lanjut dalam meningkatkan efisiensi operasional penyewaan sepeda, terutama dengan memanfaatkan wawasan mengenai waktu puncak dan perbedaan antara hari kerja dan akhir pekan. Penyesuaian alokasi sumber daya yang lebih baik, seperti menambah unit sepeda pada jam sibuk dan hari kerja, dapat meningkatkan kepuasan pelanggan dan memaksimalkan pendapatan."
      ]
    }
  ],
  "metadata": {
    "kernelspec": {
      "display_name": "Python 3",
      "language": "python",
      "name": "python3"
    },
    "language_info": {
      "name": "python",
      "version": "3.8.0 (tags/v3.8.0:fa919fd, Oct 14 2019, 19:21:23) [MSC v.1916 32 bit (Intel)]"
    },
    "orig_nbformat": 4,
    "vscode": {
      "interpreter": {
        "hash": "972b3bf27e332e87b5379f2791f6ef9dfc79c71018c370b0d7423235e20fe4d7"
      }
    },
    "colab": {
      "provenance": [],
      "collapsed_sections": [
        "FHSiqaZp8DC1",
        "EhN5R4hr8DC1"
      ]
    }
  },
  "nbformat": 4,
  "nbformat_minor": 0
}
